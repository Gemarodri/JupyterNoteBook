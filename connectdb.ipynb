{
 "cells": [
  {
   "cell_type": "code",
   "execution_count": 8,
   "metadata": {
    "collapsed": false
   },
   "outputs": [
    {
     "data": {
      "text/plain": [
       "10L"
      ]
     },
     "execution_count": 8,
     "metadata": {},
     "output_type": "execute_result"
    }
   ],
   "source": [
    "import MySQLdb\n",
    "db = MySQLdb.connect(user=\"root\",\n",
    "                    passwd=\"mysqldb\",\n",
    "                    host= \"localhost\",\n",
    "                    port=3306,\n",
    "                    use_unicode= True )\n",
    "cursor = db.cursor()\n",
    "cursor.execute(\"\"\"SELECT *\n",
    "FROM reviews.changes LIMIT 10\"\"\")"
   ]
  },
  {
   "cell_type": "code",
   "execution_count": 9,
   "metadata": {
    "collapsed": false
   },
   "outputs": [
    {
     "data": {
      "text/plain": [
       "((1L,\n",
       "  1L,\n",
       "  u'Upload',\n",
       "  u'1',\n",
       "  u'',\n",
       "  1L,\n",
       "  datetime.datetime(2015, 1, 20, 12, 54, 22)),\n",
       " (2L,\n",
       "  1L,\n",
       "  u'Workflow',\n",
       "  u'1',\n",
       "  u'-1',\n",
       "  1L,\n",
       "  datetime.datetime(2015, 1, 20, 12, 55, 30)),\n",
       " (3L,\n",
       "  1L,\n",
       "  u'Verified',\n",
       "  u'1',\n",
       "  u'1',\n",
       "  4L,\n",
       "  datetime.datetime(2015, 1, 20, 13, 46, 10)),\n",
       " (4L,\n",
       "  1L,\n",
       "  u'Verified',\n",
       "  u'1',\n",
       "  u'1',\n",
       "  5L,\n",
       "  datetime.datetime(2015, 1, 20, 13, 56, 5)),\n",
       " (5L,\n",
       "  1L,\n",
       "  u'Verified',\n",
       "  u'1',\n",
       "  u'1',\n",
       "  6L,\n",
       "  datetime.datetime(2015, 1, 20, 14, 5, 16)),\n",
       " (6L,\n",
       "  1L,\n",
       "  u'Upload',\n",
       "  u'2',\n",
       "  u'',\n",
       "  1L,\n",
       "  datetime.datetime(2015, 1, 20, 16, 56, 52)),\n",
       " (7L,\n",
       "  1L,\n",
       "  u'Verified',\n",
       "  u'2',\n",
       "  u'1',\n",
       "  4L,\n",
       "  datetime.datetime(2015, 1, 20, 17, 49, 42)),\n",
       " (8L,\n",
       "  1L,\n",
       "  u'Verified',\n",
       "  u'2',\n",
       "  u'-1',\n",
       "  5L,\n",
       "  datetime.datetime(2015, 1, 20, 18, 21, 12)),\n",
       " (9L,\n",
       "  1L,\n",
       "  u'Upload',\n",
       "  u'3',\n",
       "  u'',\n",
       "  1L,\n",
       "  datetime.datetime(2015, 1, 20, 18, 34, 11)),\n",
       " (10L,\n",
       "  1L,\n",
       "  u'Verified',\n",
       "  u'3',\n",
       "  u'1',\n",
       "  4L,\n",
       "  datetime.datetime(2015, 1, 20, 19, 25, 49)))"
      ]
     },
     "execution_count": 9,
     "metadata": {},
     "output_type": "execute_result"
    }
   ],
   "source": [
    "cursor.fetchall()"
   ]
  },
  {
   "cell_type": "code",
   "execution_count": null,
   "metadata": {
    "collapsed": true
   },
   "outputs": [],
   "source": []
  }
 ],
 "metadata": {
  "kernelspec": {
   "display_name": "Python 2",
   "language": "python",
   "name": "python2"
  },
  "language_info": {
   "codemirror_mode": {
    "name": "ipython",
    "version": 2
   },
   "file_extension": ".py",
   "mimetype": "text/x-python",
   "name": "python",
   "nbconvert_exporter": "python",
   "pygments_lexer": "ipython2",
   "version": "2.7.10"
  }
 },
 "nbformat": 4,
 "nbformat_minor": 0
}
